{
  "nbformat": 4,
  "nbformat_minor": 0,
  "metadata": {
    "colab": {
      "name": "APDrawingGAN.ipynb",
      "provenance": [],
      "collapsed_sections": []
    },
    "kernelspec": {
      "name": "python3",
      "display_name": "Python 3"
    },
    "language_info": {
      "name": "python"
    },
    "accelerator": "GPU",
    "gpuClass": "standard"
  },
  "cells": [
    {
      "cell_type": "code",
      "execution_count": 1,
      "metadata": {
        "colab": {
          "base_uri": "https://localhost:8080/"
        },
        "id": "wZ5PoH1Yro7u",
        "outputId": "dd8997be-3a27-4cfe-cfac-62fdbfa347eb"
      },
      "outputs": [
        {
          "output_type": "stream",
          "name": "stdout",
          "text": [
            "/content/drive/MyDrive/LetteringCake/APDrawingGAN\n"
          ]
        }
      ],
      "source": [
        "cd /content/drive/MyDrive/LetteringCake/APDrawingGAN"
      ]
    },
    {
      "cell_type": "markdown",
      "source": [
        "# Install"
      ],
      "metadata": {
        "id": "6e9KV6kPAutd"
      }
    },
    {
      "cell_type": "code",
      "source": [
        "pip install -r requirements.txt"
      ],
      "metadata": {
        "colab": {
          "base_uri": "https://localhost:8080/"
        },
        "id": "qHNqj-jvsS67",
        "outputId": "1157b079-9139-4735-bf8e-71ccabf63ae9"
      },
      "execution_count": null,
      "outputs": [
        {
          "output_type": "stream",
          "name": "stdout",
          "text": [
            "Looking in indexes: https://pypi.org/simple, https://us-python.pkg.dev/colab-wheels/public/simple/\n",
            "Requirement already satisfied: torch>=0.4.0 in /usr/local/lib/python3.7/dist-packages (from -r requirements.txt (line 1)) (1.12.0+cu113)\n",
            "Requirement already satisfied: torchvision>=0.2.1 in /usr/local/lib/python3.7/dist-packages (from -r requirements.txt (line 2)) (0.13.0+cu113)\n",
            "Collecting dominate>=2.3.1\n",
            "  Downloading dominate-2.7.0-py2.py3-none-any.whl (29 kB)\n",
            "Collecting visdom>=0.1.8.3\n",
            "  Downloading visdom-0.1.8.9.tar.gz (676 kB)\n",
            "\u001b[K     |████████████████████████████████| 676 kB 50.2 MB/s \n",
            "\u001b[?25hRequirement already satisfied: scipy>=1.1.0 in /usr/local/lib/python3.7/dist-packages (from -r requirements.txt (line 5)) (1.7.3)\n",
            "Requirement already satisfied: numpy>=1.14.1 in /usr/local/lib/python3.7/dist-packages (from -r requirements.txt (line 6)) (1.21.6)\n",
            "Requirement already satisfied: Pillow>=5.0.0 in /usr/local/lib/python3.7/dist-packages (from -r requirements.txt (line 7)) (7.1.2)\n",
            "Requirement already satisfied: opencv-python>=3.4.2 in /usr/local/lib/python3.7/dist-packages (from -r requirements.txt (line 8)) (4.6.0.66)\n",
            "Requirement already satisfied: typing-extensions in /usr/local/lib/python3.7/dist-packages (from torch>=0.4.0->-r requirements.txt (line 1)) (4.1.1)\n",
            "Requirement already satisfied: requests in /usr/local/lib/python3.7/dist-packages (from torchvision>=0.2.1->-r requirements.txt (line 2)) (2.23.0)\n",
            "Requirement already satisfied: tornado in /usr/local/lib/python3.7/dist-packages (from visdom>=0.1.8.3->-r requirements.txt (line 4)) (5.1.1)\n",
            "Requirement already satisfied: pyzmq in /usr/local/lib/python3.7/dist-packages (from visdom>=0.1.8.3->-r requirements.txt (line 4)) (23.2.0)\n",
            "Requirement already satisfied: six in /usr/local/lib/python3.7/dist-packages (from visdom>=0.1.8.3->-r requirements.txt (line 4)) (1.15.0)\n",
            "Collecting jsonpatch\n",
            "  Downloading jsonpatch-1.32-py2.py3-none-any.whl (12 kB)\n",
            "Collecting torchfile\n",
            "  Downloading torchfile-0.1.0.tar.gz (5.2 kB)\n",
            "Collecting websocket-client\n",
            "  Downloading websocket_client-1.3.3-py3-none-any.whl (54 kB)\n",
            "\u001b[K     |████████████████████████████████| 54 kB 2.6 MB/s \n",
            "\u001b[?25hCollecting jsonpointer>=1.9\n",
            "  Downloading jsonpointer-2.3-py2.py3-none-any.whl (7.8 kB)\n",
            "Requirement already satisfied: chardet<4,>=3.0.2 in /usr/local/lib/python3.7/dist-packages (from requests->torchvision>=0.2.1->-r requirements.txt (line 2)) (3.0.4)\n",
            "Requirement already satisfied: certifi>=2017.4.17 in /usr/local/lib/python3.7/dist-packages (from requests->torchvision>=0.2.1->-r requirements.txt (line 2)) (2022.6.15)\n",
            "Requirement already satisfied: urllib3!=1.25.0,!=1.25.1,<1.26,>=1.21.1 in /usr/local/lib/python3.7/dist-packages (from requests->torchvision>=0.2.1->-r requirements.txt (line 2)) (1.24.3)\n",
            "Requirement already satisfied: idna<3,>=2.5 in /usr/local/lib/python3.7/dist-packages (from requests->torchvision>=0.2.1->-r requirements.txt (line 2)) (2.10)\n",
            "Building wheels for collected packages: visdom, torchfile\n",
            "  Building wheel for visdom (setup.py) ... \u001b[?25l\u001b[?25hdone\n",
            "  Created wheel for visdom: filename=visdom-0.1.8.9-py3-none-any.whl size=655250 sha256=5823579f76da3bff629342dc35534c11458e8ca486c523b7b31c90d6b4fa1ae8\n",
            "  Stored in directory: /root/.cache/pip/wheels/2d/d1/9b/cde923274eac9cbb6ff0d8c7c72fe30a3da9095a38fd50bbf1\n",
            "  Building wheel for torchfile (setup.py) ... \u001b[?25l\u001b[?25hdone\n",
            "  Created wheel for torchfile: filename=torchfile-0.1.0-py3-none-any.whl size=5709 sha256=376249e875819b68363ed028482aa6459c5ffce55f28f9b52e1e2a12422f4d26\n",
            "  Stored in directory: /root/.cache/pip/wheels/ac/5c/3a/a80e1c65880945c71fd833408cd1e9a8cb7e2f8f37620bb75b\n",
            "Successfully built visdom torchfile\n",
            "Installing collected packages: jsonpointer, websocket-client, torchfile, jsonpatch, visdom, dominate\n",
            "Successfully installed dominate-2.7.0 jsonpatch-1.32 jsonpointer-2.3 torchfile-0.1.0 visdom-0.1.8.9 websocket-client-1.3.3\n"
          ]
        }
      ]
    },
    {
      "cell_type": "code",
      "source": [
        "import torch\n",
        "\n",
        "print(torch.__version__)"
      ],
      "metadata": {
        "colab": {
          "base_uri": "https://localhost:8080/"
        },
        "id": "SjG_FZReKnay",
        "outputId": "3a77f6bb-4a9d-44fc-94b9-ba3a9da2aaac"
      },
      "execution_count": 2,
      "outputs": [
        {
          "output_type": "stream",
          "name": "stdout",
          "text": [
            "1.12.0+cu113\n"
          ]
        }
      ]
    },
    {
      "cell_type": "markdown",
      "source": [
        "파이토치에서 체크포인트 불러오기\n",
        "- https://tutorials.pytorch.kr/recipes/recipes/saving_and_loading_a_general_checkpoint.html\n",
        "\n",
        "파이토치 모델 불러오기 (확장자 `.pt` 파일 열기)\n",
        "- https://jdjin3000.tistory.com/17"
      ],
      "metadata": {
        "id": "tYLzUmyb130_"
      }
    },
    {
      "cell_type": "markdown",
      "source": [
        "CycleGAN tutorial 참고하기\n",
        "- https://github.com/junyanz/pytorch-CycleGAN-and-pix2pix/blob/master/pix2pix.ipynb"
      ],
      "metadata": {
        "id": "46ewtthvOsft"
      }
    },
    {
      "cell_type": "markdown",
      "source": [
        "pip install dominate\n",
        "- https://github.com/Zhangjinso/PISE/issues/19"
      ],
      "metadata": {
        "id": "IfAXlKD9Pc9A"
      }
    },
    {
      "cell_type": "code",
      "source": [
        "pip install dominate"
      ],
      "metadata": {
        "colab": {
          "base_uri": "https://localhost:8080/"
        },
        "id": "ZzP37GwDPSvP",
        "outputId": "fed19aeb-f690-4097-c4b8-e485eb6fcdfa"
      },
      "execution_count": null,
      "outputs": [
        {
          "output_type": "stream",
          "name": "stdout",
          "text": [
            "Looking in indexes: https://pypi.org/simple, https://us-python.pkg.dev/colab-wheels/public/simple/\n",
            "Collecting dominate\n",
            "  Downloading dominate-2.7.0-py2.py3-none-any.whl (29 kB)\n",
            "Installing collected packages: dominate\n",
            "Successfully installed dominate-2.7.0\n"
          ]
        }
      ]
    },
    {
      "cell_type": "markdown",
      "source": [
        "# Preprocess\n",
        "인풋 이미지 전처리하는 방법\n",
        "- https://github.com/yiranran/APDrawingGAN/tree/master/preprocess  \n",
        "코랩에서 MATLAB 함수 사용하기 (`.m` 포맷 파일 열기)\n",
        "- https://hansonminlearning.tistory.com/21\n",
        "- 스택오버플로우 https://stackoverflow.com/questions/59622884/how-to-load-matlab-file-in-colab"
      ],
      "metadata": {
        "id": "2WoKk5YkCHh8"
      }
    },
    {
      "cell_type": "code",
      "source": [
        "pip install scipy"
      ],
      "metadata": {
        "colab": {
          "base_uri": "https://localhost:8080/"
        },
        "id": "HtvPoYKkGZ5R",
        "outputId": "e76f5c6d-efbf-4316-a167-5a05830a2bf1"
      },
      "execution_count": 8,
      "outputs": [
        {
          "output_type": "stream",
          "name": "stdout",
          "text": [
            "Looking in indexes: https://pypi.org/simple, https://us-python.pkg.dev/colab-wheels/public/simple/\n",
            "Requirement already satisfied: scipy in /usr/local/lib/python3.7/dist-packages (1.7.3)\n",
            "Requirement already satisfied: numpy<1.23.0,>=1.16.5 in /usr/local/lib/python3.7/dist-packages (from scipy) (1.21.6)\n"
          ]
        }
      ]
    },
    {
      "cell_type": "code",
      "source": [
        "from scipy import io"
      ],
      "metadata": {
        "id": "5i3HKrMkGraK"
      },
      "execution_count": 12,
      "outputs": []
    },
    {
      "cell_type": "code",
      "source": [
        "face_align_512 = scipy.io.loadmat('/content/drive/MyDrive/LetteringCake/APDrawingGAN/preprocess/face_align_512.m')"
      ],
      "metadata": {
        "colab": {
          "base_uri": "https://localhost:8080/",
          "height": 382
        },
        "id": "GsRPviSIFyLa",
        "outputId": "96f25da4-6d19-4417-f431-331c45ab33a4"
      },
      "execution_count": 13,
      "outputs": [
        {
          "output_type": "error",
          "ename": "ValueError",
          "evalue": "ignored",
          "traceback": [
            "\u001b[0;31m---------------------------------------------------------------------------\u001b[0m",
            "\u001b[0;31mValueError\u001b[0m                                Traceback (most recent call last)",
            "\u001b[0;32m<ipython-input-13-bc32f7d95b92>\u001b[0m in \u001b[0;36m<module>\u001b[0;34m()\u001b[0m\n\u001b[0;32m----> 1\u001b[0;31m \u001b[0mface_align_512\u001b[0m \u001b[0;34m=\u001b[0m \u001b[0mscipy\u001b[0m\u001b[0;34m.\u001b[0m\u001b[0mio\u001b[0m\u001b[0;34m.\u001b[0m\u001b[0mloadmat\u001b[0m\u001b[0;34m(\u001b[0m\u001b[0;34m'/content/drive/MyDrive/LetteringCake/APDrawingGAN/preprocess/face_align_512.m'\u001b[0m\u001b[0;34m)\u001b[0m\u001b[0;34m\u001b[0m\u001b[0;34m\u001b[0m\u001b[0m\n\u001b[0m",
            "\u001b[0;32m/usr/local/lib/python3.7/dist-packages/scipy/io/matlab/mio.py\u001b[0m in \u001b[0;36mloadmat\u001b[0;34m(file_name, mdict, appendmat, **kwargs)\u001b[0m\n\u001b[1;32m    223\u001b[0m     \u001b[0mvariable_names\u001b[0m \u001b[0;34m=\u001b[0m \u001b[0mkwargs\u001b[0m\u001b[0;34m.\u001b[0m\u001b[0mpop\u001b[0m\u001b[0;34m(\u001b[0m\u001b[0;34m'variable_names'\u001b[0m\u001b[0;34m,\u001b[0m \u001b[0;32mNone\u001b[0m\u001b[0;34m)\u001b[0m\u001b[0;34m\u001b[0m\u001b[0;34m\u001b[0m\u001b[0m\n\u001b[1;32m    224\u001b[0m     \u001b[0;32mwith\u001b[0m \u001b[0m_open_file_context\u001b[0m\u001b[0;34m(\u001b[0m\u001b[0mfile_name\u001b[0m\u001b[0;34m,\u001b[0m \u001b[0mappendmat\u001b[0m\u001b[0;34m)\u001b[0m \u001b[0;32mas\u001b[0m \u001b[0mf\u001b[0m\u001b[0;34m:\u001b[0m\u001b[0;34m\u001b[0m\u001b[0;34m\u001b[0m\u001b[0m\n\u001b[0;32m--> 225\u001b[0;31m         \u001b[0mMR\u001b[0m\u001b[0;34m,\u001b[0m \u001b[0m_\u001b[0m \u001b[0;34m=\u001b[0m \u001b[0mmat_reader_factory\u001b[0m\u001b[0;34m(\u001b[0m\u001b[0mf\u001b[0m\u001b[0;34m,\u001b[0m \u001b[0;34m**\u001b[0m\u001b[0mkwargs\u001b[0m\u001b[0;34m)\u001b[0m\u001b[0;34m\u001b[0m\u001b[0;34m\u001b[0m\u001b[0m\n\u001b[0m\u001b[1;32m    226\u001b[0m         \u001b[0mmatfile_dict\u001b[0m \u001b[0;34m=\u001b[0m \u001b[0mMR\u001b[0m\u001b[0;34m.\u001b[0m\u001b[0mget_variables\u001b[0m\u001b[0;34m(\u001b[0m\u001b[0mvariable_names\u001b[0m\u001b[0;34m)\u001b[0m\u001b[0;34m\u001b[0m\u001b[0;34m\u001b[0m\u001b[0m\n\u001b[1;32m    227\u001b[0m \u001b[0;34m\u001b[0m\u001b[0m\n",
            "\u001b[0;32m/usr/local/lib/python3.7/dist-packages/scipy/io/matlab/mio.py\u001b[0m in \u001b[0;36mmat_reader_factory\u001b[0;34m(file_name, appendmat, **kwargs)\u001b[0m\n\u001b[1;32m     72\u001b[0m     \"\"\"\n\u001b[1;32m     73\u001b[0m     \u001b[0mbyte_stream\u001b[0m\u001b[0;34m,\u001b[0m \u001b[0mfile_opened\u001b[0m \u001b[0;34m=\u001b[0m \u001b[0m_open_file\u001b[0m\u001b[0;34m(\u001b[0m\u001b[0mfile_name\u001b[0m\u001b[0;34m,\u001b[0m \u001b[0mappendmat\u001b[0m\u001b[0;34m)\u001b[0m\u001b[0;34m\u001b[0m\u001b[0;34m\u001b[0m\u001b[0m\n\u001b[0;32m---> 74\u001b[0;31m     \u001b[0mmjv\u001b[0m\u001b[0;34m,\u001b[0m \u001b[0mmnv\u001b[0m \u001b[0;34m=\u001b[0m \u001b[0mget_matfile_version\u001b[0m\u001b[0;34m(\u001b[0m\u001b[0mbyte_stream\u001b[0m\u001b[0;34m)\u001b[0m\u001b[0;34m\u001b[0m\u001b[0;34m\u001b[0m\u001b[0m\n\u001b[0m\u001b[1;32m     75\u001b[0m     \u001b[0;32mif\u001b[0m \u001b[0mmjv\u001b[0m \u001b[0;34m==\u001b[0m \u001b[0;36m0\u001b[0m\u001b[0;34m:\u001b[0m\u001b[0;34m\u001b[0m\u001b[0;34m\u001b[0m\u001b[0m\n\u001b[1;32m     76\u001b[0m         \u001b[0;32mreturn\u001b[0m \u001b[0mMatFile4Reader\u001b[0m\u001b[0;34m(\u001b[0m\u001b[0mbyte_stream\u001b[0m\u001b[0;34m,\u001b[0m \u001b[0;34m**\u001b[0m\u001b[0mkwargs\u001b[0m\u001b[0;34m)\u001b[0m\u001b[0;34m,\u001b[0m \u001b[0mfile_opened\u001b[0m\u001b[0;34m\u001b[0m\u001b[0;34m\u001b[0m\u001b[0m\n",
            "\u001b[0;32m/usr/local/lib/python3.7/dist-packages/scipy/io/matlab/miobase.py\u001b[0m in \u001b[0;36mget_matfile_version\u001b[0;34m(fileobj)\u001b[0m\n\u001b[1;32m    229\u001b[0m     \u001b[0;32mif\u001b[0m \u001b[0mmaj_val\u001b[0m \u001b[0;32min\u001b[0m \u001b[0;34m(\u001b[0m\u001b[0;36m1\u001b[0m\u001b[0;34m,\u001b[0m \u001b[0;36m2\u001b[0m\u001b[0;34m)\u001b[0m\u001b[0;34m:\u001b[0m\u001b[0;34m\u001b[0m\u001b[0;34m\u001b[0m\u001b[0m\n\u001b[1;32m    230\u001b[0m         \u001b[0;32mreturn\u001b[0m \u001b[0mret\u001b[0m\u001b[0;34m\u001b[0m\u001b[0;34m\u001b[0m\u001b[0m\n\u001b[0;32m--> 231\u001b[0;31m     \u001b[0;32mraise\u001b[0m \u001b[0mValueError\u001b[0m\u001b[0;34m(\u001b[0m\u001b[0;34m'Unknown mat file type, version %s, %s'\u001b[0m \u001b[0;34m%\u001b[0m \u001b[0mret\u001b[0m\u001b[0;34m)\u001b[0m\u001b[0;34m\u001b[0m\u001b[0;34m\u001b[0m\u001b[0m\n\u001b[0m\u001b[1;32m    232\u001b[0m \u001b[0;34m\u001b[0m\u001b[0m\n\u001b[1;32m    233\u001b[0m \u001b[0;34m\u001b[0m\u001b[0m\n",
            "\u001b[0;31mValueError\u001b[0m: Unknown mat file type, version 109, 97"
          ]
        }
      ]
    },
    {
      "cell_type": "code",
      "source": [
        "!load('example/test1_facial5point.mat');\n",
        "[trans_img,trans_facial5point]=face_align_512('/content/drive/MyDrive/LetteringCake/APDrawingGAN/dataset/data/test_mijin/test1.jpg',facial5point,'example');"
      ],
      "metadata": {
        "colab": {
          "base_uri": "https://localhost:8080/",
          "height": 266
        },
        "id": "5BlvC4pnCKGU",
        "outputId": "92484d7a-936e-4d9a-8931-4ec68b680077"
      },
      "execution_count": 7,
      "outputs": [
        {
          "output_type": "stream",
          "name": "stdout",
          "text": [
            "/bin/bash: -c: line 0: syntax error near unexpected token `'example/test1_facial5point.mat''\n",
            "/bin/bash: -c: line 0: `load('example/test1_facial5point.mat');'\n"
          ]
        },
        {
          "output_type": "error",
          "ename": "NameError",
          "evalue": "ignored",
          "traceback": [
            "\u001b[0;31m---------------------------------------------------------------------------\u001b[0m",
            "\u001b[0;31mNameError\u001b[0m                                 Traceback (most recent call last)",
            "\u001b[0;32m<ipython-input-7-e320ef3ba1be>\u001b[0m in \u001b[0;36m<module>\u001b[0;34m()\u001b[0m\n\u001b[1;32m      1\u001b[0m \u001b[0mget_ipython\u001b[0m\u001b[0;34m(\u001b[0m\u001b[0;34m)\u001b[0m\u001b[0;34m.\u001b[0m\u001b[0msystem\u001b[0m\u001b[0;34m(\u001b[0m\u001b[0;34m\"load('example/test1_facial5point.mat');\"\u001b[0m\u001b[0;34m)\u001b[0m\u001b[0;34m\u001b[0m\u001b[0;34m\u001b[0m\u001b[0m\n\u001b[0;32m----> 2\u001b[0;31m \u001b[0;34m[\u001b[0m\u001b[0mtrans_img\u001b[0m\u001b[0;34m,\u001b[0m\u001b[0mtrans_facial5point\u001b[0m\u001b[0;34m]\u001b[0m\u001b[0;34m=\u001b[0m\u001b[0mface_align_512\u001b[0m\u001b[0;34m(\u001b[0m\u001b[0;34m'/content/drive/MyDrive/LetteringCake/APDrawingGAN/dataset/data/test_mijin/test1.jpg'\u001b[0m\u001b[0;34m,\u001b[0m\u001b[0mfacial5point\u001b[0m\u001b[0;34m,\u001b[0m\u001b[0;34m'example'\u001b[0m\u001b[0;34m)\u001b[0m\u001b[0;34m;\u001b[0m\u001b[0;34m\u001b[0m\u001b[0;34m\u001b[0m\u001b[0m\n\u001b[0m",
            "\u001b[0;31mNameError\u001b[0m: name 'face_align_512' is not defined"
          ]
        }
      ]
    },
    {
      "cell_type": "markdown",
      "source": [
        "# Testing"
      ],
      "metadata": {
        "id": "x0rvTDorA5bi"
      }
    },
    {
      "cell_type": "code",
      "source": [
        "!ls checkpoints/"
      ],
      "metadata": {
        "colab": {
          "base_uri": "https://localhost:8080/"
        },
        "id": "_zcHKgCIUAu9",
        "outputId": "f5b184eb-2891-49c8-942a-28fb7a9c6ffb"
      },
      "execution_count": null,
      "outputs": [
        {
          "output_type": "stream",
          "name": "stdout",
          "text": [
            "formal_author\n"
          ]
        }
      ]
    },
    {
      "cell_type": "code",
      "source": [
        "!python test.py --dataroot dataset/data/test_single --name formal_author --model test --dataset_mode single --norm batch --use_local --which_epoch 300"
      ],
      "metadata": {
        "colab": {
          "base_uri": "https://localhost:8080/"
        },
        "id": "RupZaR_LOkUg",
        "outputId": "564ffee2-c4df-423e-aba7-0e03075bde40"
      },
      "execution_count": null,
      "outputs": [
        {
          "output_type": "stream",
          "name": "stdout",
          "text": [
            "----------------- Options ---------------\n",
            "                    EYE_H: 40                            \n",
            "                    EYE_W: 56                            \n",
            "                  MOUTH_H: 40                            \n",
            "                  MOUTH_W: 64                            \n",
            "                   NOSE_H: 48                            \n",
            "                   NOSE_W: 48                            \n",
            "             aspect_ratio: 1.0                           \n",
            "           auxiliary_root: auxiliary                     \n",
            "               batch_size: 1                             \n",
            "                   bg_dir: dataset/mask/ALL              \n",
            "          checkpoints_dir: ./checkpoints                 \n",
            "                  comb_op: 1                             \n",
            "                 dataroot: dataset/data/test_single      \t[default: None]\n",
            "             dataset_mode: single                        \n",
            "              display_env: main                          \n",
            "               display_id: 1                             \n",
            "             display_port: 8097                          \n",
            "           display_server: http://localhost              \n",
            "          display_winsize: 256                           \n",
            "                 fineSize: 512                           \n",
            "                  gpu_ids: 0                             \n",
            "                 how_many: 70                            \n",
            "                init_gain: 0.02                          \n",
            "                init_type: normal                        \n",
            "                 input_nc: 3                             \n",
            "                  isTrain: False                         \t[default: None]\n",
            "                   lm_dir: dataset/landmark/ALL          \n",
            "                 loadSize: 512                           \n",
            "         max_dataset_size: inf                           \n",
            "                    model: test                          \t[default: apdrawing_gan]\n",
            "               n_layers_D: 3                             \n",
            "                     name: formal_author                 \t[default: experiment_name]\n",
            "                      ndf: 64                            \n",
            "                     netD: basic                         \n",
            "                     netG: unet_256                      \n",
            "                      ngf: 64                            \n",
            "                      nnG: 9                             \n",
            "               no_dropout: False                         \n",
            "                  no_flip: False                         \n",
            "                     norm: batch                         \n",
            "                    ntest: inf                           \n",
            "              num_threads: 4                             \n",
            "                output_nc: 1                             \n",
            "                    phase: test                          \n",
            "           resize_or_crop: resize_and_crop               \n",
            "              results_dir: ./results/                    \n",
            "                    save2: False                         \n",
            "           serial_batches: False                         \n",
            "              soft_border: 0                             \n",
            "                   suffix:                               \n",
            "                use_local: True                          \t[default: False]\n",
            "                  verbose: False                         \n",
            "          which_direction: AtoB                          \n",
            "              which_epoch: 300                           \t[default: latest]\n",
            "----------------- End -------------------\n",
            "/usr/local/lib/python3.7/dist-packages/torchvision/transforms/transforms.py:333: UserWarning: Argument 'interpolation' of type int is deprecated since 0.13 and will be removed in 0.15. Please use InterpolationMode enum.\n",
            "  \"Argument 'interpolation' of type int is deprecated since 0.13 and will be removed in 0.15. \"\n",
            "dataset [SingleImageDataset] was created\n",
            "initialize network with normal\n",
            "initialize network with normal\n",
            "initialize network with normal\n",
            "initialize network with normal\n",
            "initialize network with normal\n",
            "initialize network with normal\n",
            "initialize network with normal\n",
            "initialize network with normal\n",
            "model [TestModel] was created\n",
            "loading the model from ./checkpoints/formal_author/300_net_gen.pt\n",
            "loading the model from ./checkpoints/formal_author/300_net_gen.pt\n",
            "loading the model from ./checkpoints/formal_author/300_net_gen.pt\n",
            "loading the model from ./checkpoints/formal_author/300_net_gen.pt\n",
            "loading the model from ./checkpoints/formal_author/300_net_gen.pt\n",
            "loading the model from ./checkpoints/formal_author/300_net_gen.pt\n",
            "loading the model from ./checkpoints/formal_author/300_net_gen.pt\n",
            "loading the model from ./checkpoints/formal_author/300_net_gen.pt\n",
            "---------- Networks initialized -------------\n",
            "[Network G] Total number of parameters : 54.410 M\n",
            "[Network GLEyel] Total number of parameters : 1.448 M\n",
            "[Network GLEyer] Total number of parameters : 1.448 M\n",
            "[Network GLNose] Total number of parameters : 1.448 M\n",
            "[Network GLMouth] Total number of parameters : 1.448 M\n",
            "[Network GLHair] Total number of parameters : 1.710 M\n",
            "[Network GLBG] Total number of parameters : 1.710 M\n",
            "[Network GCombine] Total number of parameters : 0.158 M\n",
            "-----------------------------------------------\n",
            "processing (0000)-th image... ['dataset/data/test_single/WechatIMG253_2.png']\n",
            "processing (0005)-th image... ['dataset/data/test_single/WechatIMG263.png']\n",
            "processing (0010)-th image... ['dataset/data/test_single/girl-2099357_1920.png']\n",
            "processing (0015)-th image... ['dataset/data/test_single/girl-2143709_1920.png']\n",
            "processing (0020)-th image... ['dataset/data/test_single/girl-4024238_1920.png']\n",
            "processing (0025)-th image... ['dataset/data/test_single/model-2134460_1920.png']\n",
            "processing (0030)-th image... ['dataset/data/test_single/pinky-2727846_1920.png']\n",
            "processing (0035)-th image... ['dataset/data/test_single/portrait-smiling-woman-blue-shirt-450w-218101459.png']\n"
          ]
        }
      ]
    },
    {
      "cell_type": "code",
      "source": [
        "!python test.py --dataroot dataset/data/test_mijin --name formal_author --model test --dataset_mode single --norm batch --use_local --which_epoch 300"
      ],
      "metadata": {
        "colab": {
          "base_uri": "https://localhost:8080/"
        },
        "id": "Xi5bjxOgV0JW",
        "outputId": "717869a9-2aec-45c2-d9e3-6561199d1baf"
      },
      "execution_count": null,
      "outputs": [
        {
          "output_type": "stream",
          "name": "stdout",
          "text": [
            "----------------- Options ---------------\n",
            "                    EYE_H: 40                            \n",
            "                    EYE_W: 56                            \n",
            "                  MOUTH_H: 40                            \n",
            "                  MOUTH_W: 64                            \n",
            "                   NOSE_H: 48                            \n",
            "                   NOSE_W: 48                            \n",
            "             aspect_ratio: 1.0                           \n",
            "           auxiliary_root: auxiliary                     \n",
            "               batch_size: 1                             \n",
            "                   bg_dir: dataset/mask/ALL              \n",
            "          checkpoints_dir: ./checkpoints                 \n",
            "                  comb_op: 1                             \n",
            "                 dataroot: dataset/data/test_mijin       \t[default: None]\n",
            "             dataset_mode: single                        \n",
            "              display_env: main                          \n",
            "               display_id: 1                             \n",
            "             display_port: 8097                          \n",
            "           display_server: http://localhost              \n",
            "          display_winsize: 256                           \n",
            "                 fineSize: 512                           \n",
            "                  gpu_ids: 0                             \n",
            "                 how_many: 70                            \n",
            "                init_gain: 0.02                          \n",
            "                init_type: normal                        \n",
            "                 input_nc: 3                             \n",
            "                  isTrain: False                         \t[default: None]\n",
            "                   lm_dir: dataset/landmark/ALL          \n",
            "                 loadSize: 512                           \n",
            "         max_dataset_size: inf                           \n",
            "                    model: test                          \t[default: apdrawing_gan]\n",
            "               n_layers_D: 3                             \n",
            "                     name: formal_author                 \t[default: experiment_name]\n",
            "                      ndf: 64                            \n",
            "                     netD: basic                         \n",
            "                     netG: unet_256                      \n",
            "                      ngf: 64                            \n",
            "                      nnG: 9                             \n",
            "               no_dropout: False                         \n",
            "                  no_flip: False                         \n",
            "                     norm: batch                         \n",
            "                    ntest: inf                           \n",
            "              num_threads: 4                             \n",
            "                output_nc: 1                             \n",
            "                    phase: test                          \n",
            "           resize_or_crop: resize_and_crop               \n",
            "              results_dir: ./results/                    \n",
            "                    save2: False                         \n",
            "           serial_batches: False                         \n",
            "              soft_border: 0                             \n",
            "                   suffix:                               \n",
            "                use_local: True                          \t[default: False]\n",
            "                  verbose: False                         \n",
            "          which_direction: AtoB                          \n",
            "              which_epoch: 300                           \t[default: latest]\n",
            "----------------- End -------------------\n",
            "/usr/local/lib/python3.7/dist-packages/torchvision/transforms/transforms.py:333: UserWarning: Argument 'interpolation' of type int is deprecated since 0.13 and will be removed in 0.15. Please use InterpolationMode enum.\n",
            "  \"Argument 'interpolation' of type int is deprecated since 0.13 and will be removed in 0.15. \"\n",
            "dataset [SingleImageDataset] was created\n",
            "initialize network with normal\n",
            "initialize network with normal\n",
            "initialize network with normal\n",
            "initialize network with normal\n",
            "initialize network with normal\n",
            "initialize network with normal\n",
            "initialize network with normal\n",
            "initialize network with normal\n",
            "model [TestModel] was created\n",
            "loading the model from ./checkpoints/formal_author/300_net_gen.pt\n",
            "loading the model from ./checkpoints/formal_author/300_net_gen.pt\n",
            "loading the model from ./checkpoints/formal_author/300_net_gen.pt\n",
            "loading the model from ./checkpoints/formal_author/300_net_gen.pt\n",
            "loading the model from ./checkpoints/formal_author/300_net_gen.pt\n",
            "loading the model from ./checkpoints/formal_author/300_net_gen.pt\n",
            "loading the model from ./checkpoints/formal_author/300_net_gen.pt\n",
            "loading the model from ./checkpoints/formal_author/300_net_gen.pt\n",
            "---------- Networks initialized -------------\n",
            "[Network G] Total number of parameters : 54.410 M\n",
            "[Network GLEyel] Total number of parameters : 1.448 M\n",
            "[Network GLEyer] Total number of parameters : 1.448 M\n",
            "[Network GLNose] Total number of parameters : 1.448 M\n",
            "[Network GLMouth] Total number of parameters : 1.448 M\n",
            "[Network GLHair] Total number of parameters : 1.710 M\n",
            "[Network GLBG] Total number of parameters : 1.710 M\n",
            "[Network GCombine] Total number of parameters : 0.158 M\n",
            "-----------------------------------------------\n",
            "processing (0000)-th image... ['dataset/data/test_mijin/test1.jpg']\n"
          ]
        }
      ]
    },
    {
      "cell_type": "markdown",
      "source": [
        "# Visualize"
      ],
      "metadata": {
        "id": "UZFkmfu4BBqc"
      }
    },
    {
      "cell_type": "code",
      "source": [
        ""
      ],
      "metadata": {
        "id": "EB2qw69DWv2g"
      },
      "execution_count": null,
      "outputs": []
    }
  ]
}